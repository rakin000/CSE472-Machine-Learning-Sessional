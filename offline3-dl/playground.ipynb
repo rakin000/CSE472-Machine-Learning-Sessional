{
 "cells": [
  {
   "cell_type": "code",
   "execution_count": 1,
   "metadata": {},
   "outputs": [],
   "source": [
    "import numpy as np"
   ]
  },
  {
   "cell_type": "code",
   "execution_count": 2,
   "metadata": {},
   "outputs": [],
   "source": [
    "def mse(y_true, y_pred):\n",
    "    return np.mean(np.power(y_true - y_pred, 2))\n",
    "\n",
    "def mse_grad(y_true, y_pred):\n",
    "    return 2 * (y_pred - y_true) / np.size(y_true)\n",
    "\n",
    "def binary_cross_entropy(y_true, y_pred):\n",
    "    return np.mean(-y_true * np.log(y_pred) - (1 - y_true) * np.log(1 - y_pred))\n",
    "\n",
    "def binary_cross_entropy_grad(y_true, y_pred): # wrt y_pred\n",
    "    return ((1 - y_true) / (1 - y_pred) - y_true / y_pred) / np.size(y_true)\n",
    "\n",
    "def cross_entropy(y_true,y_pred,epsilon=1e-15):\n",
    "    y_pred = np.clip(y_pred, epsilon, 1.0-epsilon)\n",
    "    return np.mean(-y_true*np.log(y_pred)) \n",
    "\n",
    "def cross_entropy_grad(y_true,y_pred,epsilon=1e-15):\n",
    "    y_pred = np.clip(y_pred, epsilon, 1.0-epsilon)\n",
    "    return np.mean(-y_true/y_pred) "
   ]
  },
  {
   "cell_type": "code",
   "execution_count": 3,
   "metadata": {},
   "outputs": [
    {
     "data": {
      "text/plain": [
       "array([[0.44985335, 0.47538224, 0.18754413],\n",
       "       [0.44573357, 0.12604105, 0.54536274],\n",
       "       [0.01293806, 0.13508158, 0.06646485],\n",
       "       [0.09147502, 0.26349513, 0.20062828]])"
      ]
     },
     "execution_count": 3,
     "metadata": {},
     "output_type": "execute_result"
    }
   ],
   "source": [
    "y_pred = np.random.randn(4,3)\n",
    "y_pred = np.exp(y_pred)/np.sum( np.exp(y_pred),axis=0) \n",
    "y_pred"
   ]
  },
  {
   "cell_type": "code",
   "execution_count": 4,
   "metadata": {},
   "outputs": [
    {
     "data": {
      "text/plain": [
       "array([[1, 1, 0],\n",
       "       [0, 0, 1],\n",
       "       [0, 0, 0],\n",
       "       [0, 0, 0]])"
      ]
     },
     "execution_count": 4,
     "metadata": {},
     "output_type": "execute_result"
    }
   ],
   "source": [
    "y = np.array( [np.random.randint(0,4) for i in range(3)] )\n",
    "y\n",
    "y = np.array([[1 if val==i else 0 for i in range(4)] for val in y]).T\n",
    "y"
   ]
  },
  {
   "cell_type": "code",
   "execution_count": 5,
   "metadata": {},
   "outputs": [
    {
     "data": {
      "text/plain": [
       "3"
      ]
     },
     "execution_count": 5,
     "metadata": {},
     "output_type": "execute_result"
    }
   ],
   "source": [
    "np.sum(np.argmax(y_pred,axis=0) == np.argmax(y,axis=0))"
   ]
  },
  {
   "cell_type": "code",
   "execution_count": 6,
   "metadata": {},
   "outputs": [
    {
     "data": {
      "text/plain": [
       "-0.5133465799808925"
      ]
     },
     "execution_count": 6,
     "metadata": {},
     "output_type": "execute_result"
    }
   ],
   "source": [
    "cross_entropy_grad(y,y_pred)"
   ]
  },
  {
   "cell_type": "code",
   "execution_count": 7,
   "metadata": {},
   "outputs": [
    {
     "name": "stdout",
     "output_type": "stream",
     "text": [
      "Cross-entropy loss: 1.1553\n",
      "Gradient of cross-entropy loss:\n",
      "[[-0.         -0.         -0.47272735]\n",
      " [-0.         -3.49311541 -0.        ]\n",
      " [-0.86580484 -0.         -0.        ]\n",
      " [-0.29518879 -0.         -0.        ]\n",
      " [-0.         -0.24468455 -0.        ]]\n"
     ]
    }
   ],
   "source": [
    "import numpy as np\n",
    "\n",
    "def cross_entropy_loss(y_true, y_pred):\n",
    "    \"\"\"\n",
    "    Calculate the cross-entropy loss.\n",
    "\n",
    "    Parameters:\n",
    "    - y_true: 2D array with one-hot encoded true class labels (shape: [num_samples, num_classes]).\n",
    "    - y_pred: 2D array with predicted probabilities (shape: [num_samples, num_classes]).\n",
    "\n",
    "    Returns:\n",
    "    - float: Cross-entropy loss.\n",
    "    \"\"\"\n",
    "    epsilon = 1e-15  # Small constant to avoid log(0)\n",
    "    num_samples = len(y_true)\n",
    "\n",
    "    # Clip predicted probabilities to avoid log(0)\n",
    "    y_pred = np.clip(y_pred, epsilon, 1 - epsilon)\n",
    "\n",
    "    # Calculate cross-entropy loss\n",
    "    loss = -np.sum(y_true * np.log(y_pred)) / num_samples\n",
    "    return loss\n",
    "\n",
    "def cross_entropy_loss_grad(y_true, y_pred):\n",
    "    \"\"\"\n",
    "    Calculate the gradient of the cross-entropy loss with respect to the predicted probabilities.\n",
    "\n",
    "    Parameters:\n",
    "    - y_true: 2D array with one-hot encoded true class labels (shape: [num_samples, num_classes]).\n",
    "    - y_pred: 2D array with predicted probabilities (shape: [num_samples, num_classes]).\n",
    "\n",
    "    Returns:\n",
    "    - 2D array: Gradient of the cross-entropy loss with respect to y_pred (shape: [num_samples, num_classes]).\n",
    "    \"\"\"\n",
    "    epsilon = 1e-15  # Small constant to avoid division by zero\n",
    "    num_samples = len(y_true)\n",
    "\n",
    "    # Clip predicted probabilities to avoid division by zero\n",
    "    y_pred = np.clip(y_pred, epsilon, 1 - epsilon)\n",
    "\n",
    "    # Calculate the gradient of the cross-entropy loss\n",
    "    grad = (-y_true / y_pred) / num_samples\n",
    "    return grad\n",
    "\n",
    "# Example usage\n",
    "num_classes = 3\n",
    "num_samples = 5\n",
    "\n",
    "# Generate random one-hot encoded true labels and predicted probabilities\n",
    "y_true = np.eye(num_classes)[np.random.choice(num_classes, num_samples)]\n",
    "y_pred = np.random.rand(num_samples, num_classes)\n",
    "\n",
    "# Calculate cross-entropy loss\n",
    "loss = cross_entropy_loss(y_true, y_pred)\n",
    "print(f\"Cross-entropy loss: {loss:.4f}\")\n",
    "\n",
    "# Calculate the gradient of cross-entropy loss\n",
    "grad = cross_entropy_loss_grad(y_true, y_pred)\n",
    "print(\"Gradient of cross-entropy loss:\")\n",
    "print(grad)\n"
   ]
  },
  {
   "cell_type": "code",
   "execution_count": 8,
   "metadata": {},
   "outputs": [
    {
     "data": {
      "text/plain": [
       "2"
      ]
     },
     "execution_count": 8,
     "metadata": {},
     "output_type": "execute_result"
    }
   ],
   "source": [
    "y = [2,3, 4]\n",
    "\n",
    "np.argmax(y)"
   ]
  },
  {
   "cell_type": "code",
   "execution_count": 9,
   "metadata": {},
   "outputs": [],
   "source": [
    "y = np.array([i for i in range(16)])"
   ]
  },
  {
   "cell_type": "code",
   "execution_count": 10,
   "metadata": {},
   "outputs": [
    {
     "data": {
      "text/plain": [
       "array([[ 0,  1,  2,  3,  4,  5,  6,  7],\n",
       "       [ 8,  9, 10, 11, 12, 13, 14, 15]])"
      ]
     },
     "execution_count": 10,
     "metadata": {},
     "output_type": "execute_result"
    }
   ],
   "source": [
    "y.reshape(2,8)"
   ]
  },
  {
   "cell_type": "code",
   "execution_count": 11,
   "metadata": {},
   "outputs": [
    {
     "name": "stdout",
     "output_type": "stream",
     "text": [
      "Original array1: [1 2 3 4 5]\n",
      "Original array2: ['a' 'b' 'c' 'd' 'e']\n",
      "\n",
      "Shuffled array1: [2 3 4 5 1]\n",
      "Shuffled array2: ['b' 'c' 'd' 'e' 'a']\n"
     ]
    }
   ],
   "source": [
    "import numpy as np\n",
    "\n",
    "# Example arrays\n",
    "array1 = np.array([1, 2, 3, 4, 5])\n",
    "array2 = np.array(['a', 'b', 'c', 'd', 'e'])\n",
    "\n",
    "# Generate shuffled indices\n",
    "shuffled_indices = np.arange(len(array1))\n",
    "np.random.shuffle(shuffled_indices)\n",
    "\n",
    "# Shuffle both arrays using the same indices\n",
    "shuffled_array1 = array1[shuffled_indices]\n",
    "shuffled_array2 = array2[shuffled_indices]\n",
    "\n",
    "# Print the original and shuffled arrays\n",
    "print(\"Original array1:\", array1)\n",
    "print(\"Original array2:\", array2)\n",
    "print(\"\\nShuffled array1:\", shuffled_array1)\n",
    "print(\"Shuffled array2:\", shuffled_array2)\n"
   ]
  },
  {
   "cell_type": "code",
   "execution_count": 12,
   "metadata": {},
   "outputs": [
    {
     "data": {
      "text/plain": [
       "array([1, 0, 7, 5, 9, 4, 8, 2, 6, 3])"
      ]
     },
     "execution_count": 12,
     "metadata": {},
     "output_type": "execute_result"
    }
   ],
   "source": [
    "xx = (np.arange(10))\n",
    "np.random.shuffle(xx)\n",
    "xx"
   ]
  },
  {
   "cell_type": "code",
   "execution_count": 13,
   "metadata": {},
   "outputs": [
    {
     "data": {
      "text/plain": [
       "array([1, 0, 7, 5])"
      ]
     },
     "execution_count": 13,
     "metadata": {},
     "output_type": "execute_result"
    }
   ],
   "source": [
    "xx[:4]"
   ]
  },
  {
   "cell_type": "code",
   "execution_count": 14,
   "metadata": {},
   "outputs": [
    {
     "data": {
      "text/plain": [
       "array([9, 4, 8, 2])"
      ]
     },
     "execution_count": 14,
     "metadata": {},
     "output_type": "execute_result"
    }
   ],
   "source": [
    "xx[4:8]"
   ]
  },
  {
   "cell_type": "code",
   "execution_count": 15,
   "metadata": {},
   "outputs": [
    {
     "data": {
      "text/plain": [
       "array([6, 3])"
      ]
     },
     "execution_count": 15,
     "metadata": {},
     "output_type": "execute_result"
    }
   ],
   "source": [
    "xx[8:12]"
   ]
  },
  {
   "cell_type": "code",
   "execution_count": 16,
   "metadata": {},
   "outputs": [
    {
     "data": {
      "text/plain": [
       "2.6666666666666665"
      ]
     },
     "execution_count": 16,
     "metadata": {},
     "output_type": "execute_result"
    }
   ],
   "source": [
    "8/3"
   ]
  },
  {
   "cell_type": "code",
   "execution_count": 17,
   "metadata": {},
   "outputs": [
    {
     "data": {
      "text/plain": [
       "2"
      ]
     },
     "execution_count": 17,
     "metadata": {},
     "output_type": "execute_result"
    }
   ],
   "source": [
    "8//3"
   ]
  },
  {
   "cell_type": "code",
   "execution_count": 18,
   "metadata": {},
   "outputs": [
    {
     "data": {
      "text/plain": [
       "3"
      ]
     },
     "execution_count": 18,
     "metadata": {},
     "output_type": "execute_result"
    }
   ],
   "source": [
    "batch_size = 8\n",
    "(17+batch_size-1)//batch_size"
   ]
  },
  {
   "cell_type": "code",
   "execution_count": 19,
   "metadata": {},
   "outputs": [],
   "source": [
    "x = np.array([_ for _ in range(16)]).reshape(4,4)"
   ]
  },
  {
   "cell_type": "code",
   "execution_count": 20,
   "metadata": {},
   "outputs": [
    {
     "data": {
      "text/plain": [
       "array([[[ 0,  1],\n",
       "        [ 2,  3]],\n",
       "\n",
       "       [[ 4,  5],\n",
       "        [ 6,  7]],\n",
       "\n",
       "       [[ 8,  9],\n",
       "        [10, 11]],\n",
       "\n",
       "       [[12, 13],\n",
       "        [14, 15]]])"
      ]
     },
     "execution_count": 20,
     "metadata": {},
     "output_type": "execute_result"
    }
   ],
   "source": [
    "x = x.reshape(4,2,2)\n",
    "x"
   ]
  },
  {
   "cell_type": "code",
   "execution_count": 21,
   "metadata": {},
   "outputs": [
    {
     "name": "stdout",
     "output_type": "stream",
     "text": [
      "[[24 28]\n",
      " [32 36]]\n",
      "\n",
      "[[ 2  4]\n",
      " [10 12]\n",
      " [18 20]\n",
      " [26 28]]\n",
      "\n",
      "[[ 1  5]\n",
      " [ 9 13]\n",
      " [17 21]\n",
      " [25 29]]\n",
      "\n"
     ]
    }
   ],
   "source": [
    "for i in range(3):\n",
    "    print(np.sum(x, axis=i))\n",
    "    print()"
   ]
  },
  {
   "cell_type": "code",
   "execution_count": 22,
   "metadata": {},
   "outputs": [],
   "source": [
    "x = np.arange(16).reshape(-1,2)"
   ]
  },
  {
   "cell_type": "code",
   "execution_count": 23,
   "metadata": {},
   "outputs": [
    {
     "data": {
      "text/plain": [
       "2"
      ]
     },
     "execution_count": 23,
     "metadata": {},
     "output_type": "execute_result"
    }
   ],
   "source": [
    "np.size(x, axis=1)"
   ]
  },
  {
   "cell_type": "code",
   "execution_count": 24,
   "metadata": {},
   "outputs": [
    {
     "data": {
      "text/plain": [
       "array([[ 0,  1],\n",
       "       [ 2,  3],\n",
       "       [ 4,  5],\n",
       "       [ 6,  7],\n",
       "       [ 8,  9],\n",
       "       [10, 11],\n",
       "       [12, 13],\n",
       "       [14, 15]])"
      ]
     },
     "execution_count": 24,
     "metadata": {},
     "output_type": "execute_result"
    }
   ],
   "source": [
    "x"
   ]
  },
  {
   "cell_type": "code",
   "execution_count": 25,
   "metadata": {},
   "outputs": [
    {
     "data": {
      "text/plain": [
       "array([[ 0.5],\n",
       "       [ 2.5],\n",
       "       [ 4.5],\n",
       "       [ 6.5],\n",
       "       [ 8.5],\n",
       "       [10.5],\n",
       "       [12.5],\n",
       "       [14.5]])"
      ]
     },
     "execution_count": 25,
     "metadata": {},
     "output_type": "execute_result"
    }
   ],
   "source": [
    "np.mean(x, axis=1, keepdims=True)"
   ]
  },
  {
   "cell_type": "code",
   "execution_count": 26,
   "metadata": {},
   "outputs": [
    {
     "data": {
      "text/plain": [
       "array([[-14, -14],\n",
       "       [-12, -12],\n",
       "       [-10, -10],\n",
       "       [ -8,  -8],\n",
       "       [ -6,  -6],\n",
       "       [ -4,  -4],\n",
       "       [ -2,  -2],\n",
       "       [  0,   0]])"
      ]
     },
     "execution_count": 26,
     "metadata": {},
     "output_type": "execute_result"
    }
   ],
   "source": [
    "x = x-np.max(x,axis=0)\n",
    "x"
   ]
  },
  {
   "cell_type": "code",
   "execution_count": 27,
   "metadata": {},
   "outputs": [
    {
     "data": {
      "text/plain": [
       "array([[7.18993625e-07, 7.18993625e-07],\n",
       "       [5.31268423e-06, 5.31268423e-06],\n",
       "       [3.92557218e-05, 3.92557218e-05],\n",
       "       [2.90062731e-04, 2.90062731e-04],\n",
       "       [2.14328979e-03, 2.14328979e-03],\n",
       "       [1.58368885e-02, 1.58368885e-02],\n",
       "       [1.17019658e-01, 1.17019658e-01],\n",
       "       [8.64664814e-01, 8.64664814e-01]])"
      ]
     },
     "execution_count": 27,
     "metadata": {},
     "output_type": "execute_result"
    }
   ],
   "source": [
    "x = np.exp(x) / np.sum( np.exp(x), axis=0, keepdims=True)\n",
    "x"
   ]
  },
  {
   "cell_type": "code",
   "execution_count": 28,
   "metadata": {},
   "outputs": [
    {
     "data": {
      "text/plain": [
       "array([[1., 1.]])"
      ]
     },
     "execution_count": 28,
     "metadata": {},
     "output_type": "execute_result"
    }
   ],
   "source": [
    "np.sum(x, axis=0,keepdims=True)"
   ]
  },
  {
   "cell_type": "code",
   "execution_count": 29,
   "metadata": {},
   "outputs": [],
   "source": [
    "x = np.arange(12).reshape(4,3)"
   ]
  },
  {
   "cell_type": "code",
   "execution_count": 30,
   "metadata": {},
   "outputs": [
    {
     "data": {
      "text/plain": [
       "array([[ 0,  1,  2],\n",
       "       [ 3,  4,  5],\n",
       "       [ 6,  7,  8],\n",
       "       [ 9, 10, 11]])"
      ]
     },
     "execution_count": 30,
     "metadata": {},
     "output_type": "execute_result"
    }
   ],
   "source": [
    "x"
   ]
  },
  {
   "cell_type": "code",
   "execution_count": 31,
   "metadata": {},
   "outputs": [
    {
     "data": {
      "text/plain": [
       "array([[-0.41885088, -0.96845476,  0.19428307],\n",
       "       [ 1.26104745,  0.44961784,  0.37241741],\n",
       "       [ 1.56903017, -1.37990388, -0.97286369],\n",
       "       [ 1.04896944, -0.83425423, -0.5863052 ]])"
      ]
     },
     "execution_count": 31,
     "metadata": {},
     "output_type": "execute_result"
    }
   ],
   "source": [
    "out_grad = np.random.randn(4,3)\n",
    "out_grad"
   ]
  },
  {
   "cell_type": "code",
   "execution_count": 32,
   "metadata": {},
   "outputs": [
    {
     "data": {
      "text/plain": [
       "array([[-0.96845476],\n",
       "       [ 0.44961784],\n",
       "       [-1.37990388],\n",
       "       [-0.83425423]])"
      ]
     },
     "execution_count": 32,
     "metadata": {},
     "output_type": "execute_result"
    }
   ],
   "source": [
    "out_grad[:,1:2]"
   ]
  },
  {
   "cell_type": "code",
   "execution_count": 33,
   "metadata": {},
   "outputs": [],
   "source": [
    "n = np.size(x,axis=0)"
   ]
  },
  {
   "cell_type": "code",
   "execution_count": 34,
   "metadata": {},
   "outputs": [
    {
     "name": "stdout",
     "output_type": "stream",
     "text": [
      "[[ 2]\n",
      " [ 5]\n",
      " [ 8]\n",
      " [11]]\n",
      "[[ 0.19428307]\n",
      " [ 0.37241741]\n",
      " [-0.97286369]\n",
      " [-0.5863052 ]]\n"
     ]
    },
    {
     "data": {
      "text/plain": [
       "array([[ 24.35179321],\n",
       "       [ 61.77015472],\n",
       "       [ 88.06999876],\n",
       "       [125.34839167]])"
      ]
     },
     "execution_count": 34,
     "metadata": {},
     "output_type": "execute_result"
    }
   ],
   "source": [
    "index = 2\n",
    "input = x[:,index:index+1]\n",
    "print(f\"{input}\")\n",
    "print(f\"{out_grad[:,index:index+1]}\")\n",
    "np.dot( (np.identity(n) - input.T )*input, out_grad[:,index:index+1]) "
   ]
  },
  {
   "cell_type": "code",
   "execution_count": 35,
   "metadata": {},
   "outputs": [
    {
     "data": {
      "text/plain": [
       "True"
      ]
     },
     "execution_count": 35,
     "metadata": {},
     "output_type": "execute_result"
    }
   ],
   "source": [
    "np.size(x, axis=1) == np.size(out_grad, axis=1)"
   ]
  },
  {
   "cell_type": "code",
   "execution_count": 36,
   "metadata": {},
   "outputs": [
    {
     "name": "stdout",
     "output_type": "stream",
     "text": [
      "[[   0.           16.20339809   24.35179321]\n",
      " [ -64.13100273   70.48588277   61.77015472]\n",
      " [-126.4141091   110.54364283   88.06999876]\n",
      " [-194.3017102   163.37598624  125.34839167]]\n",
      "\n",
      "[[[   0.        ]\n",
      "  [ -64.13100273]\n",
      "  [-126.4141091 ]\n",
      "  [-194.3017102 ]\n",
      "  [  16.20339809]\n",
      "  [  70.48588277]\n",
      "  [ 110.54364283]\n",
      "  [ 163.37598624]\n",
      "  [  24.35179321]\n",
      "  [  61.77015472]\n",
      "  [  88.06999876]\n",
      "  [ 125.34839167]]]\n"
     ]
    }
   ],
   "source": [
    "print(np.hstack( [np.dot( (np.identity(n)-x[:,i:i+1].T)*x[:,i:i+1], out_grad[:,i:i+1]) for i in range(np.size(x,axis=1)) ] ))\n",
    "print()\n",
    "print(np.hstack( [[np.dot( (np.identity(n)-x[:,i:i+1].T)*x[:,i:i+1], out_grad[:,i:i+1])] for i in range(np.size(x,axis=1)) ] ))\n"
   ]
  },
  {
   "cell_type": "code",
   "execution_count": 37,
   "metadata": {},
   "outputs": [],
   "source": [
    "grad = np.hstack([ np.dot( (np.identity(n) - input.T )*input, og.T) for input,og in zip(x.T, out_grad.T)  ])"
   ]
  },
  {
   "cell_type": "code",
   "execution_count": 38,
   "metadata": {},
   "outputs": [
    {
     "data": {
      "text/plain": [
       "array([-152.80103808, -149.01789574, -143.38685705, -143.36031309,\n",
       "        143.84682763,  146.61375374,  135.15595524,  136.47274009,\n",
       "        123.50720404,  124.98072495,  115.33572839,  116.66928069])"
      ]
     },
     "execution_count": 38,
     "metadata": {},
     "output_type": "execute_result"
    }
   ],
   "source": [
    "grad"
   ]
  },
  {
   "cell_type": "code",
   "execution_count": 39,
   "metadata": {},
   "outputs": [],
   "source": [
    "input = x.T[2]\n"
   ]
  },
  {
   "cell_type": "code",
   "execution_count": 40,
   "metadata": {},
   "outputs": [],
   "source": [
    "\n",
    "\n",
    "z = np.random.randn(4,3)"
   ]
  },
  {
   "cell_type": "code",
   "execution_count": 41,
   "metadata": {},
   "outputs": [
    {
     "data": {
      "text/plain": [
       "array([[-0.10317307, -2.13853605,  0.82948688],\n",
       "       [-1.00906227, -0.44969504,  1.75406701],\n",
       "       [-0.03921907,  0.65326383,  0.79779432],\n",
       "       [ 0.9505454 ,  0.5496442 ,  0.04995717]])"
      ]
     },
     "execution_count": 41,
     "metadata": {},
     "output_type": "execute_result"
    }
   ],
   "source": [
    "z"
   ]
  },
  {
   "cell_type": "code",
   "execution_count": 42,
   "metadata": {},
   "outputs": [],
   "source": [
    "p = np.zeros(z.shape)"
   ]
  },
  {
   "cell_type": "code",
   "execution_count": 43,
   "metadata": {},
   "outputs": [
    {
     "data": {
      "text/plain": [
       "array([[0., 0., 0.],\n",
       "       [0., 0., 0.],\n",
       "       [0., 0., 0.],\n",
       "       [0., 0., 0.]])"
      ]
     },
     "execution_count": 43,
     "metadata": {},
     "output_type": "execute_result"
    }
   ],
   "source": [
    "p"
   ]
  },
  {
   "cell_type": "code",
   "execution_count": 46,
   "metadata": {},
   "outputs": [
    {
     "data": {
      "text/plain": [
       "array([[ 0,  1,  2,  3],\n",
       "       [ 4,  5,  6,  7],\n",
       "       [ 8,  9, 10, 11],\n",
       "       [12, 13, 14, 15]])"
      ]
     },
     "execution_count": 46,
     "metadata": {},
     "output_type": "execute_result"
    }
   ],
   "source": [
    "z = np.array([_ for _ in range(16)]).reshape(4,4)\n",
    "z"
   ]
  },
  {
   "cell_type": "code",
   "execution_count": 47,
   "metadata": {},
   "outputs": [
    {
     "data": {
      "text/plain": [
       "array([[  0,   1,   4,   9],\n",
       "       [ 16,  25,  36,  49],\n",
       "       [ 64,  81, 100, 121],\n",
       "       [144, 169, 196, 225]])"
      ]
     },
     "execution_count": 47,
     "metadata": {},
     "output_type": "execute_result"
    }
   ],
   "source": [
    "z*z"
   ]
  },
  {
   "cell_type": "code",
   "execution_count": 49,
   "metadata": {},
   "outputs": [],
   "source": [
    "eps = 1e-8"
   ]
  },
  {
   "cell_type": "code",
   "execution_count": 50,
   "metadata": {},
   "outputs": [
    {
     "data": {
      "text/plain": [
       "array([[1.00000000e-08, 1.00000001e+00, 1.41421357e+00, 1.73205082e+00],\n",
       "       [2.00000001e+00, 2.23606799e+00, 2.44948975e+00, 2.64575132e+00],\n",
       "       [2.82842713e+00, 3.00000001e+00, 3.16227767e+00, 3.31662480e+00],\n",
       "       [3.46410163e+00, 3.60555129e+00, 3.74165740e+00, 3.87298336e+00]])"
      ]
     },
     "execution_count": 50,
     "metadata": {},
     "output_type": "execute_result"
    }
   ],
   "source": [
    "np.sqrt(z)+eps"
   ]
  },
  {
   "cell_type": "code",
   "execution_count": 53,
   "metadata": {},
   "outputs": [],
   "source": [
    "func = lambda x,y : x**2 + y"
   ]
  },
  {
   "cell_type": "code",
   "execution_count": 57,
   "metadata": {},
   "outputs": [
    {
     "data": {
      "text/plain": [
       "17"
      ]
     },
     "execution_count": 57,
     "metadata": {},
     "output_type": "execute_result"
    }
   ],
   "source": [
    "func(4,1)"
   ]
  },
  {
   "cell_type": "code",
   "execution_count": null,
   "metadata": {},
   "outputs": [],
   "source": []
  }
 ],
 "metadata": {
  "kernelspec": {
   "display_name": "base",
   "language": "python",
   "name": "python3"
  },
  "language_info": {
   "codemirror_mode": {
    "name": "ipython",
    "version": 3
   },
   "file_extension": ".py",
   "mimetype": "text/x-python",
   "name": "python",
   "nbconvert_exporter": "python",
   "pygments_lexer": "ipython3",
   "version": "3.11.5"
  }
 },
 "nbformat": 4,
 "nbformat_minor": 2
}
