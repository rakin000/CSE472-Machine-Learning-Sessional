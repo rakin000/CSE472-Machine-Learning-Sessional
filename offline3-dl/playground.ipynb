{
 "cells": [
  {
   "cell_type": "code",
   "execution_count": 2,
   "metadata": {},
   "outputs": [],
   "source": [
    "import numpy as np"
   ]
  },
  {
   "cell_type": "code",
   "execution_count": 3,
   "metadata": {},
   "outputs": [],
   "source": [
    "def mse(y_true, y_pred):\n",
    "    return np.mean(np.power(y_true - y_pred, 2))\n",
    "\n",
    "def mse_grad(y_true, y_pred):\n",
    "    return 2 * (y_pred - y_true) / np.size(y_true)\n",
    "\n",
    "def binary_cross_entropy(y_true, y_pred):\n",
    "    return np.mean(-y_true * np.log(y_pred) - (1 - y_true) * np.log(1 - y_pred))\n",
    "\n",
    "def binary_cross_entropy_grad(y_true, y_pred): # wrt y_pred\n",
    "    return ((1 - y_true) / (1 - y_pred) - y_true / y_pred) / np.size(y_true)\n",
    "\n",
    "def cross_entropy(y_true,y_pred,epsilon=1e-15):\n",
    "    y_pred = np.clip(y_pred, epsilon, 1.0-epsilon)\n",
    "    return np.mean(-y_true*np.log(y_pred)) \n",
    "\n",
    "def cross_entropy_grad(y_true,y_pred,epsilon=1e-15):\n",
    "    y_pred = np.clip(y_pred, epsilon, 1.0-epsilon)\n",
    "    return np.mean(-y_true/y_pred) "
   ]
  },
  {
   "cell_type": "code",
   "execution_count": 10,
   "metadata": {},
   "outputs": [],
   "source": [
    "y_pred = np.random.randn(4)\n",
    "y_pred = np.exp(y_pred)/np.sum( np.exp(y_pred) ) \n",
    "y = np.zeros(4)\n",
    "y[2] = 1 "
   ]
  },
  {
   "cell_type": "code",
   "execution_count": 11,
   "metadata": {},
   "outputs": [
    {
     "name": "stdout",
     "output_type": "stream",
     "text": [
      "[0. 0. 1. 0.]\n",
      "[0.27585904 0.20310151 0.15680211 0.36423734]\n"
     ]
    }
   ],
   "source": [
    "print(y)\n",
    "print(y_pred)"
   ]
  },
  {
   "cell_type": "code",
   "execution_count": 13,
   "metadata": {},
   "outputs": [
    {
     "data": {
      "text/plain": [
       "-1.5943663184217949"
      ]
     },
     "execution_count": 13,
     "metadata": {},
     "output_type": "execute_result"
    }
   ],
   "source": [
    "cross_entropy_grad(y,y_pred)"
   ]
  },
  {
   "cell_type": "code",
   "execution_count": 15,
   "metadata": {},
   "outputs": [
    {
     "name": "stdout",
     "output_type": "stream",
     "text": [
      "Cross-entropy loss: 0.8484\n",
      "Gradient of cross-entropy loss:\n",
      "[[-0.         -0.59952621 -0.        ]\n",
      " [-0.         -0.         -0.78070825]\n",
      " [-0.53435849 -0.         -0.        ]\n",
      " [-0.25635624 -0.         -0.        ]\n",
      " [-0.         -0.34717242 -0.        ]]\n"
     ]
    }
   ],
   "source": [
    "import numpy as np\n",
    "\n",
    "def cross_entropy_loss(y_true, y_pred):\n",
    "    \"\"\"\n",
    "    Calculate the cross-entropy loss.\n",
    "\n",
    "    Parameters:\n",
    "    - y_true: 2D array with one-hot encoded true class labels (shape: [num_samples, num_classes]).\n",
    "    - y_pred: 2D array with predicted probabilities (shape: [num_samples, num_classes]).\n",
    "\n",
    "    Returns:\n",
    "    - float: Cross-entropy loss.\n",
    "    \"\"\"\n",
    "    epsilon = 1e-15  # Small constant to avoid log(0)\n",
    "    num_samples = len(y_true)\n",
    "\n",
    "    # Clip predicted probabilities to avoid log(0)\n",
    "    y_pred = np.clip(y_pred, epsilon, 1 - epsilon)\n",
    "\n",
    "    # Calculate cross-entropy loss\n",
    "    loss = -np.sum(y_true * np.log(y_pred)) / num_samples\n",
    "    return loss\n",
    "\n",
    "def cross_entropy_loss_grad(y_true, y_pred):\n",
    "    \"\"\"\n",
    "    Calculate the gradient of the cross-entropy loss with respect to the predicted probabilities.\n",
    "\n",
    "    Parameters:\n",
    "    - y_true: 2D array with one-hot encoded true class labels (shape: [num_samples, num_classes]).\n",
    "    - y_pred: 2D array with predicted probabilities (shape: [num_samples, num_classes]).\n",
    "\n",
    "    Returns:\n",
    "    - 2D array: Gradient of the cross-entropy loss with respect to y_pred (shape: [num_samples, num_classes]).\n",
    "    \"\"\"\n",
    "    epsilon = 1e-15  # Small constant to avoid division by zero\n",
    "    num_samples = len(y_true)\n",
    "\n",
    "    # Clip predicted probabilities to avoid division by zero\n",
    "    y_pred = np.clip(y_pred, epsilon, 1 - epsilon)\n",
    "\n",
    "    # Calculate the gradient of the cross-entropy loss\n",
    "    grad = (-y_true / y_pred) / num_samples\n",
    "    return grad\n",
    "\n",
    "# Example usage\n",
    "num_classes = 3\n",
    "num_samples = 5\n",
    "\n",
    "# Generate random one-hot encoded true labels and predicted probabilities\n",
    "y_true = np.eye(num_classes)[np.random.choice(num_classes, num_samples)]\n",
    "y_pred = np.random.rand(num_samples, num_classes)\n",
    "\n",
    "# Calculate cross-entropy loss\n",
    "loss = cross_entropy_loss(y_true, y_pred)\n",
    "print(f\"Cross-entropy loss: {loss:.4f}\")\n",
    "\n",
    "# Calculate the gradient of cross-entropy loss\n",
    "grad = cross_entropy_loss_grad(y_true, y_pred)\n",
    "print(\"Gradient of cross-entropy loss:\")\n",
    "print(grad)\n"
   ]
  }
 ],
 "metadata": {
  "kernelspec": {
   "display_name": "base",
   "language": "python",
   "name": "python3"
  },
  "language_info": {
   "codemirror_mode": {
    "name": "ipython",
    "version": 3
   },
   "file_extension": ".py",
   "mimetype": "text/x-python",
   "name": "python",
   "nbconvert_exporter": "python",
   "pygments_lexer": "ipython3",
   "version": "3.11.5"
  }
 },
 "nbformat": 4,
 "nbformat_minor": 2
}
