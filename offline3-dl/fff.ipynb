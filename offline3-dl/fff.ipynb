{
 "cells": [
  {
   "cell_type": "code",
   "execution_count": 17,
   "metadata": {},
   "outputs": [],
   "source": [
    "from NN import *"
   ]
  },
  {
   "cell_type": "markdown",
   "metadata": {},
   "source": [
    "Import Dataset"
   ]
  },
  {
   "cell_type": "code",
   "execution_count": 18,
   "metadata": {},
   "outputs": [],
   "source": [
    "from torchvision import datasets, transforms \n",
    "\n",
    "train_validation_dataset = datasets.EMNIST(root='./data', \n",
    "                                           split='letters',\n",
    "                                           train=True,\n",
    "                                           transform=transforms.ToTensor(),\n",
    "                                           download=True,\n",
    "                                        )\n",
    "\n",
    "\n",
    "independent_test_dataset = datasets.EMNIST(\n",
    "                             root='./data',\n",
    "                             split='letters',\n",
    "                             train=False,\n",
    "                             transform=transforms.ToTensor(),\n",
    "                             )\n"
   ]
  },
  {
   "cell_type": "code",
   "execution_count": 19,
   "metadata": {},
   "outputs": [
    {
     "data": {
      "text/plain": [
       "array([0, 0, 0, 0, 0, 0, 0, 0, 0, 0, 0, 0, 0, 0, 0, 1, 0, 0, 0, 0, 0, 0,\n",
       "       0, 0, 0, 0, 0])"
      ]
     },
     "execution_count": 19,
     "metadata": {},
     "output_type": "execute_result"
    }
   ],
   "source": [
    "type(train_validation_dataset)\n",
    "n_classes = len(train_validation_dataset.classes)\n",
    "n_datapoints = len(train_validation_dataset.targets)\n",
    "\n",
    "X_train = np.array(train_validation_dataset.data.reshape(-1,28*28))\n",
    "# y_train = np.zeros((len(train_validation_dataset.targets),len(train_validation_dataset.classes)))\n",
    "\n",
    "y_train = np.array([[1 if temp == i else 0 for i in range(n_classes)] for temp in train_validation_dataset.targets])\n",
    "y_train[3]"
   ]
  },
  {
   "cell_type": "code",
   "execution_count": 20,
   "metadata": {},
   "outputs": [],
   "source": [
    "X_test = np.array(independent_test_dataset.data.reshape(-1,28*28))\n",
    "y_test = np.array([[1 if temp == i else 0 for i in range(n_classes)] for temp in independent_test_dataset.targets])"
   ]
  },
  {
   "cell_type": "code",
   "execution_count": 21,
   "metadata": {},
   "outputs": [],
   "source": [
    "model = NN(Linear(28*28,1024), ReLU(), Dropout(0.3), Linear(1024,n_classes), Softmax())"
   ]
  },
  {
   "cell_type": "code",
   "execution_count": 58,
   "metadata": {},
   "outputs": [
    {
     "name": "stdout",
     "output_type": "stream",
     "text": [
      "epoch=0, error=0.19611174422148434\n",
      "epoch=1, error=0.19474451111507196\n",
      "epoch=2, error=0.1953931756555599\n",
      "epoch=3, error=0.19453829603258305\n",
      "epoch=4, error=0.19323317781438656\n",
      "epoch=5, error=0.1934014998515111\n",
      "epoch=6, error=0.1930817542427191\n",
      "epoch=7, error=0.191863355025612\n",
      "epoch=8, error=0.19118358189114698\n",
      "epoch=9, error=0.19119868377571128\n",
      "epoch=10, error=0.18985371694633568\n",
      "epoch=11, error=0.19022677589839546\n",
      "epoch=12, error=0.1888674568636171\n",
      "epoch=13, error=0.18765067672193855\n",
      "epoch=14, error=0.18799045635915057\n",
      "epoch=15, error=0.18620994041905856\n",
      "epoch=16, error=0.18733872358860224\n",
      "epoch=17, error=0.18648722074517024\n",
      "epoch=18, error=0.1860709377376707\n",
      "epoch=19, error=0.18564915185662073\n"
     ]
    }
   ],
   "source": [
    "model.train(cross_entropy, cross_entropy_grad, X_train, y_train, batch_size=2048, epochs=20, learning_rate=5e-5)"
   ]
  },
  {
   "cell_type": "code",
   "execution_count": 60,
   "metadata": {},
   "outputs": [],
   "source": [
    "model.save(\"model1024.pkl\")"
   ]
  },
  {
   "cell_type": "code",
   "execution_count": 59,
   "metadata": {},
   "outputs": [
    {
     "data": {
      "text/plain": [
       "0.8103846153846154"
      ]
     },
     "execution_count": 59,
     "metadata": {},
     "output_type": "execute_result"
    }
   ],
   "source": [
    "model.eval(X_test,y_test,batch_size=2048)"
   ]
  },
  {
   "cell_type": "code",
   "execution_count": 32,
   "metadata": {},
   "outputs": [
    {
     "name": "stdout",
     "output_type": "stream",
     "text": [
      "[[3.63504985e-41]\n",
      " [5.77990454e-21]\n",
      " [9.95595662e-01]\n",
      " [2.28029202e-85]\n",
      " [3.04202706e-47]\n",
      " [4.35476633e-29]\n",
      " [3.04825815e-47]\n",
      " [8.14499471e-34]\n",
      " [5.23722602e-05]\n",
      " [3.65418240e-82]\n",
      " [9.21607136e-87]\n",
      " [2.62560943e-06]\n",
      " [6.92068895e-65]\n",
      " [1.10347200e-04]\n",
      " [3.50207296e-13]\n",
      " [8.64525089e-50]\n",
      " [5.83147546e-52]\n",
      " [7.12789115e-74]\n",
      " [2.08957650e-18]\n",
      " [5.42879484e-70]\n",
      " [8.02427850e-34]\n",
      " [1.82240026e-32]\n",
      " [1.77256754e-34]\n",
      " [9.00278927e-37]\n",
      " [1.65306472e-11]\n",
      " [9.01058694e-39]\n",
      " [4.23899303e-03]]\n"
     ]
    }
   ],
   "source": [
    "id = np.random.randint(0,len(X_train))\n",
    "x_ = X_train[id:id+1].T \n",
    "y_ = y_train[id:id+1].T \n",
    "\n",
    "print(model(x_))\n"
   ]
  },
  {
   "cell_type": "code",
   "execution_count": 33,
   "metadata": {},
   "outputs": [
    {
     "name": "stdout",
     "output_type": "stream",
     "text": [
      "[[0]\n",
      " [0]\n",
      " [0]\n",
      " [0]\n",
      " [0]\n",
      " [0]\n",
      " [0]\n",
      " [0]\n",
      " [0]\n",
      " [0]\n",
      " [0]\n",
      " [0]\n",
      " [0]\n",
      " [0]\n",
      " [1]\n",
      " [0]\n",
      " [0]\n",
      " [0]\n",
      " [0]\n",
      " [0]\n",
      " [0]\n",
      " [0]\n",
      " [0]\n",
      " [0]\n",
      " [0]\n",
      " [0]\n",
      " [0]]\n"
     ]
    }
   ],
   "source": [
    "print(y_)"
   ]
  },
  {
   "cell_type": "code",
   "execution_count": 34,
   "metadata": {},
   "outputs": [
    {
     "data": {
      "text/plain": [
       "array([False])"
      ]
     },
     "execution_count": 34,
     "metadata": {},
     "output_type": "execute_result"
    }
   ],
   "source": [
    "np.argmax(model(x_),axis=0) == np.argmax(y_,axis=0)"
   ]
  }
 ],
 "metadata": {
  "kernelspec": {
   "display_name": "base",
   "language": "python",
   "name": "python3"
  },
  "language_info": {
   "codemirror_mode": {
    "name": "ipython",
    "version": 3
   },
   "file_extension": ".py",
   "mimetype": "text/x-python",
   "name": "python",
   "nbconvert_exporter": "python",
   "pygments_lexer": "ipython3",
   "version": "3.11.5"
  }
 },
 "nbformat": 4,
 "nbformat_minor": 2
}
