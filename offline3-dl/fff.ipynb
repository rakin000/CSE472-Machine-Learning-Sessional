{
 "cells": [
  {
   "cell_type": "code",
   "execution_count": 1,
   "metadata": {},
   "outputs": [],
   "source": [
    "from NN import *"
   ]
  },
  {
   "cell_type": "markdown",
   "metadata": {},
   "source": [
    "Import Dataset"
   ]
  },
  {
   "cell_type": "code",
   "execution_count": 2,
   "metadata": {},
   "outputs": [],
   "source": [
    "from torchvision import datasets, transforms \n",
    "\n",
    "train_validation_dataset = datasets.EMNIST(root='./data', \n",
    "                                           split='letters',\n",
    "                                           train=True,\n",
    "                                           transform=transforms.ToTensor(),\n",
    "                                           download=True,\n",
    "                                        )\n",
    "\n",
    "\n",
    "independent_test_dataset = datasets.EMNIST(\n",
    "                             root='./data',\n",
    "                             split='letters',\n",
    "                             train=False,\n",
    "                             transform=transforms.ToTensor(),\n",
    "                             )\n"
   ]
  },
  {
   "cell_type": "code",
   "execution_count": 6,
   "metadata": {},
   "outputs": [],
   "source": [
    "type(train_validation_dataset)\n",
    "n_classes = len(train_validation_dataset.classes)-1\n",
    "n_datapoints = len(train_validation_dataset.targets)\n",
    "\n",
    "X_train = np.array(train_validation_dataset.data.reshape(-1,28*28))\n",
    "y_train = np.array([[1 if temp == i+1 else 0 for i in range(n_classes)] for temp in train_validation_dataset.targets])"
   ]
  },
  {
   "cell_type": "code",
   "execution_count": 7,
   "metadata": {},
   "outputs": [],
   "source": [
    "X_test = np.array(independent_test_dataset.data.reshape(-1,28*28))\n",
    "y_test = np.array([[1 if temp == i+1 else 0 for i in range(n_classes)] for temp in independent_test_dataset.targets])"
   ]
  },
  {
   "cell_type": "code",
   "execution_count": 8,
   "metadata": {},
   "outputs": [],
   "source": [
    "#standard scaler \n",
    "X_mean = np.mean(X_train,axis=0, keepdims=True)\n",
    "X_std = np.std(X_train,axis=0,keepdims=True)\n",
    "eps = 1e-8\n",
    "X_train = (X_train-X_mean)/(X_std + eps)\n",
    "X_test = (X_test-X_mean)/(X_std + eps)"
   ]
  },
  {
   "cell_type": "code",
   "execution_count": 10,
   "metadata": {},
   "outputs": [
    {
     "data": {
      "text/plain": [
       "8.924607691004123"
      ]
     },
     "execution_count": 10,
     "metadata": {},
     "output_type": "execute_result"
    }
   ],
   "source": [
    "X_train[:3].max()"
   ]
  },
  {
   "cell_type": "code",
   "execution_count": 13,
   "metadata": {},
   "outputs": [],
   "source": [
    "model = NN(Linear(28*28,1024), ReLU(), Dropout(0.3), Linear(1024,n_classes), Softmax())"
   ]
  },
  {
   "cell_type": "code",
   "execution_count": 14,
   "metadata": {},
   "outputs": [
    {
     "name": "stdout",
     "output_type": "stream",
     "text": [
      "epoch=0, train_loss=0.040649536751499314, val_loss=0.28650016981017495\n",
      "epoch=1, train_loss=0.02125051394159884, val_loss=0.2406460997540334\n",
      "epoch=2, train_loss=0.01740479895874721, val_loss=0.21822938285202229\n",
      "epoch=3, train_loss=0.015764998640813474, val_loss=0.20650813854933106\n",
      "epoch=4, train_loss=0.014525941168237721, val_loss=0.20002857787209027\n",
      "epoch=5, train_loss=0.013825759564330475, val_loss=0.19733450830620775\n",
      "epoch=6, train_loss=0.013076719347912769, val_loss=0.19066111364200244\n",
      "epoch=7, train_loss=0.012265480768381049, val_loss=0.1816938258686882\n",
      "epoch=8, train_loss=0.011436823678123346, val_loss=0.17606353368921718\n",
      "epoch=9, train_loss=0.01088762851238487, val_loss=0.17583673954567378\n",
      "epoch=10, train_loss=0.010136496951166137, val_loss=0.17262139046066735\n",
      "epoch=11, train_loss=0.009576476618350725, val_loss=0.16653286839609266\n",
      "epoch=12, train_loss=0.008875842679812002, val_loss=0.16745421028349866\n",
      "epoch=13, train_loss=0.008453303351934782, val_loss=0.16460947016183505\n",
      "epoch=14, train_loss=0.007969003832959686, val_loss=0.16313177943111629\n",
      "epoch=15, train_loss=0.00767138445633465, val_loss=0.16209709187810922\n",
      "epoch=16, train_loss=0.007373531858396379, val_loss=0.16024969400882866\n",
      "epoch=17, train_loss=0.006925573039217056, val_loss=0.1577688708223476\n",
      "epoch=18, train_loss=0.006814563549233334, val_loss=0.15606043828905505\n",
      "epoch=19, train_loss=0.006495855142535769, val_loss=0.15793516537119548\n"
     ]
    }
   ],
   "source": [
    "model.train(cross_entropy, cross_entropy_grad, X_train, y_train, batch_size=2048, epochs=20, learning_rate=5e-3)"
   ]
  },
  {
   "cell_type": "code",
   "execution_count": 24,
   "metadata": {},
   "outputs": [],
   "source": [
    "model.save(\"model1024_3.pkl\")"
   ]
  },
  {
   "cell_type": "code",
   "execution_count": 20,
   "metadata": {},
   "outputs": [
    {
     "data": {
      "text/plain": [
       "0.9555288461538461"
      ]
     },
     "execution_count": 20,
     "metadata": {},
     "output_type": "execute_result"
    }
   ],
   "source": [
    "model.eval(X_train,y_train,batch_size=2048)"
   ]
  },
  {
   "cell_type": "code",
   "execution_count": 21,
   "metadata": {},
   "outputs": [
    {
     "name": "stdout",
     "output_type": "stream",
     "text": [
      "[[4.45116634e-06]\n",
      " [4.53162807e-06]\n",
      " [3.53553076e-07]\n",
      " [8.59187604e-07]\n",
      " [9.99004249e-01]\n",
      " [1.99136923e-08]\n",
      " [6.43115465e-09]\n",
      " [1.03401883e-07]\n",
      " [8.26942614e-11]\n",
      " [1.06527418e-10]\n",
      " [2.68772884e-05]\n",
      " [1.48437765e-11]\n",
      " [2.87164102e-10]\n",
      " [1.36284963e-07]\n",
      " [8.14943406e-09]\n",
      " [4.77140150e-07]\n",
      " [7.34469979e-11]\n",
      " [5.03884495e-05]\n",
      " [3.31194223e-11]\n",
      " [8.66284492e-04]\n",
      " [1.05180796e-07]\n",
      " [1.33072448e-08]\n",
      " [1.52332377e-10]\n",
      " [4.13690038e-07]\n",
      " [2.91189439e-09]\n",
      " [4.07180334e-05]]\n"
     ]
    }
   ],
   "source": [
    "id = np.random.randint(0,len(X_train))\n",
    "x_ = X_train[id:id+1].T \n",
    "y_ = y_train[id:id+1].T \n",
    "\n",
    "print(model(x_))\n"
   ]
  },
  {
   "cell_type": "code",
   "execution_count": 22,
   "metadata": {},
   "outputs": [
    {
     "name": "stdout",
     "output_type": "stream",
     "text": [
      "[[0]\n",
      " [0]\n",
      " [0]\n",
      " [0]\n",
      " [1]\n",
      " [0]\n",
      " [0]\n",
      " [0]\n",
      " [0]\n",
      " [0]\n",
      " [0]\n",
      " [0]\n",
      " [0]\n",
      " [0]\n",
      " [0]\n",
      " [0]\n",
      " [0]\n",
      " [0]\n",
      " [0]\n",
      " [0]\n",
      " [0]\n",
      " [0]\n",
      " [0]\n",
      " [0]\n",
      " [0]\n",
      " [0]]\n"
     ]
    }
   ],
   "source": [
    "print(y_)"
   ]
  },
  {
   "cell_type": "code",
   "execution_count": 23,
   "metadata": {},
   "outputs": [
    {
     "data": {
      "text/plain": [
       "array([ True])"
      ]
     },
     "execution_count": 23,
     "metadata": {},
     "output_type": "execute_result"
    }
   ],
   "source": [
    "np.argmax(model(x_),axis=0) == np.argmax(y_,axis=0)"
   ]
  }
 ],
 "metadata": {
  "kernelspec": {
   "display_name": "base",
   "language": "python",
   "name": "python3"
  },
  "language_info": {
   "codemirror_mode": {
    "name": "ipython",
    "version": 3
   },
   "file_extension": ".py",
   "mimetype": "text/x-python",
   "name": "python",
   "nbconvert_exporter": "python",
   "pygments_lexer": "ipython3",
   "version": "3.11.5"
  }
 },
 "nbformat": 4,
 "nbformat_minor": 2
}
