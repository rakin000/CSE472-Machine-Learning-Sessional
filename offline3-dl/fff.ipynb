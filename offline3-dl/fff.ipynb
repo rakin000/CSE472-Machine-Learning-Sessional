{
 "cells": [
  {
   "cell_type": "code",
   "execution_count": 2,
   "metadata": {},
   "outputs": [],
   "source": [
    "import numpy as np\n",
    "rand = np.random.default_rng(42)"
   ]
  },
  {
   "cell_type": "code",
   "execution_count": 3,
   "metadata": {},
   "outputs": [],
   "source": [
    "class Linear:\n",
    "    def __init__(self,fan_in,fan_out,seed=42):\n",
    "        self.fan_in = fan_in \n",
    "        self.fan_out = fan_out\n",
    "        self.rand = np.random.default_rng(seed)\n",
    "        self.weights = self.rand.random((fan_in,fan_out))\n",
    "        self.bias = np.ones((1,fan_out))\n",
    "        self.grad = np.zeros((fan_in,fan_out))\n",
    "\n",
    "        # print(self.weights.shape)\n",
    "        # print(self.grad.shape)\n",
    "    def __call__(self,x):\n",
    "        return np.dot(x.reshape((-1,self.fan_in)),self.weights) + self.bias\n",
    "    def __repr__(self):\n",
    "        pass "
   ]
  },
  {
   "cell_type": "code",
   "execution_count": 4,
   "metadata": {},
   "outputs": [],
   "source": [
    "class ReLU:\n",
    "    def __init__(self,fan_in,seed=42):\n",
    "        self.fan_in = fan_in \n",
    "        \n",
    "    def __call__(self,x):\n",
    "        return np.maximum(x,0)\n",
    "    def __repr__(self):\n",
    "        pass "
   ]
  },
  {
   "cell_type": "code",
   "execution_count": 5,
   "metadata": {},
   "outputs": [],
   "source": [
    "class Sigmoid:\n",
    "    def __init__(self,fan_in,seed=42):\n",
    "        self.fan_in=fan_in \n",
    "\n",
    "    def __call__(self,x):\n",
    "        return 1.0/(1.0+np.exp(-x))\n",
    "    \n",
    "    def __repr__(self):\n",
    "        pass"
   ]
  },
  {
   "cell_type": "code",
   "execution_count": 6,
   "metadata": {},
   "outputs": [
    {
     "name": "stdout",
     "output_type": "stream",
     "text": [
      "[0.77395605 0.43887844 0.85859792 0.69736803 0.09417735 0.97562235\n",
      " 0.7611397  0.78606431 0.12811363 0.45038594]\n",
      "[[3.89957597 4.46464935 3.5824885  3.92192523 3.88495561]]\n",
      "[[0.98015145 0.98862221 0.97294586 0.98058161 0.97986501]]\n",
      "[[0.98015145 0.98862221 0.97294586 0.98058161 0.97986501]]\n"
     ]
    }
   ],
   "source": [
    "lin = Linear(10,5)\n",
    "relu = ReLU(5) \n",
    "sigmoid = Sigmoid(5)\n",
    "\n",
    "model = [lin, sigmoid, relu] \n",
    "\n",
    "x = rand.random(10)\n",
    "\n",
    "print(x)\n",
    "for layer in model:\n",
    "    x = layer(x) \n",
    "    print(x)"
   ]
  },
  {
   "cell_type": "code",
   "execution_count": 14,
   "metadata": {},
   "outputs": [
    {
     "data": {
      "text/plain": [
       "(32, 10)"
      ]
     },
     "execution_count": 14,
     "metadata": {},
     "output_type": "execute_result"
    }
   ],
   "source": [
    "res = input.reshape((-1,1))*w\n",
    "\n",
    "res.shape"
   ]
  },
  {
   "cell_type": "code",
   "execution_count": null,
   "metadata": {},
   "outputs": [],
   "source": [
    "sdfhasdfsdf"
   ]
  }
 ],
 "metadata": {
  "kernelspec": {
   "display_name": "base",
   "language": "python",
   "name": "python3"
  },
  "language_info": {
   "codemirror_mode": {
    "name": "ipython",
    "version": 3
   },
   "file_extension": ".py",
   "mimetype": "text/x-python",
   "name": "python",
   "nbconvert_exporter": "python",
   "pygments_lexer": "ipython3",
   "version": "3.11.5"
  }
 },
 "nbformat": 4,
 "nbformat_minor": 2
}
