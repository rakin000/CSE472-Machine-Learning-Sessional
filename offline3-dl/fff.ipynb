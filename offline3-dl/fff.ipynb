{
 "cells": [
  {
   "cell_type": "code",
   "execution_count": 144,
   "metadata": {},
   "outputs": [],
   "source": [
    "from NN import *"
   ]
  },
  {
   "cell_type": "markdown",
   "metadata": {},
   "source": [
    "Import Dataset"
   ]
  },
  {
   "cell_type": "code",
   "execution_count": 145,
   "metadata": {},
   "outputs": [],
   "source": [
    "from torchvision import datasets, transforms \n",
    "\n",
    "train_validation_dataset = datasets.EMNIST(root='./data', \n",
    "                                           split='letters',\n",
    "                                           train=True,\n",
    "                                           transform=transforms.ToTensor(),\n",
    "                                           download=True,\n",
    "                                        )\n",
    "\n",
    "\n",
    "independent_test_dataset = datasets.EMNIST(\n",
    "                             root='./data',\n",
    "                             split='letters',\n",
    "                             train=False,\n",
    "                             transform=transforms.ToTensor(),\n",
    "                             )\n"
   ]
  },
  {
   "cell_type": "code",
   "execution_count": 146,
   "metadata": {},
   "outputs": [
    {
     "data": {
      "text/plain": [
       "array([0, 0, 0, 0, 0, 0, 0, 0, 0, 0, 0, 0, 0, 0, 0, 1, 0, 0, 0, 0, 0, 0,\n",
       "       0, 0, 0, 0, 0])"
      ]
     },
     "execution_count": 146,
     "metadata": {},
     "output_type": "execute_result"
    }
   ],
   "source": [
    "type(train_validation_dataset)\n",
    "n_classes = len(train_validation_dataset.classes)\n",
    "n_datapoints = len(train_validation_dataset.targets)\n",
    "\n",
    "X_train = np.array(train_validation_dataset.data.reshape(-1,28*28))\n",
    "# y_train = np.zeros((len(train_validation_dataset.targets),len(train_validation_dataset.classes)))\n",
    "\n",
    "y_train = np.array([[1 if temp == i else 0 for i in range(n_classes)] for temp in train_validation_dataset.targets])\n",
    "y_train[3]"
   ]
  },
  {
   "cell_type": "code",
   "execution_count": 147,
   "metadata": {},
   "outputs": [],
   "source": [
    "X_test = np.array(independent_test_dataset.data.reshape(-1,28*28))\n",
    "y_test = np.array([[1 if temp == i else 0 for i in range(n_classes)] for temp in independent_test_dataset.targets])"
   ]
  },
  {
   "cell_type": "code",
   "execution_count": 148,
   "metadata": {},
   "outputs": [],
   "source": [
    "import pandas as pd \n",
    "\n",
    "df = pd.DataFrame(train_validation_dataset.data.reshape(-1,28*28))"
   ]
  },
  {
   "cell_type": "code",
   "execution_count": 149,
   "metadata": {},
   "outputs": [],
   "source": [
    "model = NN(Linear(28*28,1024), ReLU(), Dropout(0.2), Linear(1024,n_classes), ReLU(), Dropout(0.3), Softmax())"
   ]
  },
  {
   "cell_type": "code",
   "execution_count": 182,
   "metadata": {},
   "outputs": [
    {
     "name": "stdout",
     "output_type": "stream",
     "text": [
      "epoch=0, error=0.09682987462622586\n",
      "epoch=1, error=0.08979564578590082\n",
      "epoch=2, error=0.08703034864584613\n",
      "epoch=3, error=0.08439715070249837\n",
      "epoch=4, error=0.08301133318786054\n",
      "epoch=5, error=0.08111321588044149\n",
      "epoch=6, error=0.07969134056433028\n",
      "epoch=7, error=0.07818273685001768\n",
      "epoch=8, error=0.0774407957545969\n",
      "epoch=9, error=0.07643887129417969\n",
      "epoch=10, error=0.07562021819976357\n",
      "epoch=11, error=0.07467474413936605\n",
      "epoch=12, error=0.07404767234216798\n",
      "epoch=13, error=0.07368855045625104\n",
      "epoch=14, error=0.073099145226264\n",
      "epoch=15, error=0.0723291389719758\n",
      "epoch=16, error=0.07155675455307398\n",
      "epoch=17, error=0.07139172252777062\n",
      "epoch=18, error=0.0708584399788763\n",
      "epoch=19, error=0.07028728997060513\n",
      "epoch=20, error=0.06993349370147545\n",
      "epoch=21, error=0.06915493943393164\n",
      "epoch=22, error=0.06891775517307658\n",
      "epoch=23, error=0.06862705494170196\n",
      "epoch=24, error=0.06819136415518565\n",
      "epoch=25, error=0.06755214597528371\n",
      "epoch=26, error=0.06719381400733344\n",
      "epoch=27, error=0.06680808193846759\n",
      "epoch=28, error=0.06659879657182888\n",
      "epoch=29, error=0.06630305095458194\n",
      "epoch=30, error=0.0658861269584299\n",
      "epoch=31, error=0.06570899935195688\n",
      "epoch=32, error=0.06538302257521014\n",
      "epoch=33, error=0.06496933713341009\n",
      "epoch=34, error=0.06482496122584877\n",
      "epoch=35, error=0.06432012871541426\n",
      "epoch=36, error=0.06414858990920476\n",
      "epoch=37, error=0.06393465252898688\n",
      "epoch=38, error=0.06323648400321756\n",
      "epoch=39, error=0.06327234451197206\n",
      "epoch=40, error=0.06314478164827451\n",
      "epoch=41, error=0.06297591692688712\n",
      "epoch=42, error=0.06220223819622997\n",
      "epoch=43, error=0.06230359126942721\n",
      "epoch=44, error=0.061867980189855724\n",
      "epoch=45, error=0.06160286175317685\n",
      "epoch=46, error=0.061183479793628495\n",
      "epoch=47, error=0.06116177421157672\n",
      "epoch=48, error=0.06089268909241952\n",
      "epoch=49, error=0.060853328290915325\n",
      "epoch=50, error=0.06062476034355537\n",
      "epoch=51, error=0.06052611670021989\n",
      "epoch=52, error=0.060431242776831026\n",
      "epoch=53, error=0.060093860318859084\n",
      "epoch=54, error=0.060153031864771174\n",
      "epoch=55, error=0.06013948932723442\n",
      "epoch=56, error=0.05949246914850622\n",
      "epoch=57, error=0.05976032073805631\n",
      "epoch=58, error=0.05948520280463244\n",
      "epoch=59, error=0.059141175812143426\n",
      "epoch=60, error=0.05903550830006118\n",
      "epoch=61, error=0.058814586380040224\n",
      "epoch=62, error=0.05909796725912192\n",
      "epoch=63, error=0.05843005363394169\n",
      "epoch=64, error=0.058141449358405504\n",
      "epoch=65, error=0.05839792399982712\n",
      "epoch=66, error=0.05827469590057687\n",
      "epoch=67, error=0.0579748027347243\n",
      "epoch=68, error=0.0582120577662255\n",
      "epoch=69, error=0.05796883216208544\n",
      "epoch=70, error=0.0576651166249833\n",
      "epoch=71, error=0.05771480134440583\n",
      "epoch=72, error=0.05753449856492677\n",
      "epoch=73, error=0.05738591249214074\n",
      "epoch=74, error=0.057267282385840036\n",
      "epoch=75, error=0.05687206848291687\n",
      "epoch=76, error=0.05734308647965699\n",
      "epoch=77, error=0.057165287796467144\n",
      "epoch=78, error=0.05673067430201216\n",
      "epoch=79, error=0.05695794874734\n",
      "epoch=80, error=0.05716471658598538\n",
      "epoch=81, error=0.05651350559260298\n",
      "epoch=82, error=0.05617692202356178\n",
      "epoch=83, error=0.056324111780104213\n",
      "epoch=84, error=0.056504187361891105\n",
      "epoch=85, error=0.05644030498532071\n",
      "epoch=86, error=0.055865336420979184\n",
      "epoch=87, error=0.055891606604932816\n",
      "epoch=88, error=0.05588734669451181\n",
      "epoch=89, error=0.05580942705552394\n",
      "epoch=90, error=0.05595847734503984\n",
      "epoch=91, error=0.055694502532205356\n",
      "epoch=92, error=0.0556417346300534\n",
      "epoch=93, error=0.055559522851172646\n",
      "epoch=94, error=0.05571072699665862\n",
      "epoch=95, error=0.0555478062206166\n",
      "epoch=96, error=0.055386050697486346\n",
      "epoch=97, error=0.05535790153845321\n",
      "epoch=98, error=0.05525057621571838\n",
      "epoch=99, error=0.05490790541026724\n"
     ]
    }
   ],
   "source": [
    "model.train(cross_entropy, cross_entropy_grad, X_train, y_train, batch_size=2048, epochs=100, learning_rate=0.01)"
   ]
  },
  {
   "cell_type": "code",
   "execution_count": 183,
   "metadata": {},
   "outputs": [],
   "source": [
    "model.save(\"model1024_2.pkl\")"
   ]
  },
  {
   "cell_type": "code",
   "execution_count": 184,
   "metadata": {},
   "outputs": [
    {
     "data": {
      "text/plain": [
       "0.5991346153846154"
      ]
     },
     "execution_count": 184,
     "metadata": {},
     "output_type": "execute_result"
    }
   ],
   "source": [
    "model.eval(X_test,y_test,batch_size=2048)"
   ]
  },
  {
   "cell_type": "code",
   "execution_count": 185,
   "metadata": {},
   "outputs": [
    {
     "name": "stdout",
     "output_type": "stream",
     "text": [
      "[[2.53851840e-18]\n",
      " [2.53851840e-18]\n",
      " [2.53851840e-18]\n",
      " [2.53851840e-18]\n",
      " [2.53851840e-18]\n",
      " [2.53851840e-18]\n",
      " [2.53851840e-18]\n",
      " [9.01907102e-18]\n",
      " [2.53851840e-18]\n",
      " [2.53851840e-18]\n",
      " [2.53851840e-18]\n",
      " [2.53851840e-18]\n",
      " [2.53851840e-18]\n",
      " [2.53851840e-18]\n",
      " [2.53851840e-18]\n",
      " [2.53851840e-18]\n",
      " [2.53851840e-18]\n",
      " [1.00000000e+00]\n",
      " [2.53851840e-18]\n",
      " [2.53851840e-18]\n",
      " [2.53851840e-18]\n",
      " [2.53851840e-18]\n",
      " [2.53851840e-18]\n",
      " [2.53851840e-18]\n",
      " [2.53851840e-18]\n",
      " [2.53851840e-18]\n",
      " [2.53851840e-18]]\n"
     ]
    }
   ],
   "source": [
    "id = np.random.randint(0,len(X_train))\n",
    "x_ = X_train[id:id+1].T \n",
    "y_ = y_train[id:id+1].T \n",
    "\n",
    "print(model(x_))\n"
   ]
  },
  {
   "cell_type": "code",
   "execution_count": 186,
   "metadata": {},
   "outputs": [
    {
     "name": "stdout",
     "output_type": "stream",
     "text": [
      "[[0]\n",
      " [0]\n",
      " [0]\n",
      " [0]\n",
      " [0]\n",
      " [0]\n",
      " [0]\n",
      " [0]\n",
      " [0]\n",
      " [0]\n",
      " [0]\n",
      " [0]\n",
      " [0]\n",
      " [0]\n",
      " [0]\n",
      " [0]\n",
      " [0]\n",
      " [1]\n",
      " [0]\n",
      " [0]\n",
      " [0]\n",
      " [0]\n",
      " [0]\n",
      " [0]\n",
      " [0]\n",
      " [0]\n",
      " [0]]\n"
     ]
    }
   ],
   "source": [
    "print(y_)"
   ]
  },
  {
   "cell_type": "code",
   "execution_count": 187,
   "metadata": {},
   "outputs": [
    {
     "data": {
      "text/plain": [
       "array([ True])"
      ]
     },
     "execution_count": 187,
     "metadata": {},
     "output_type": "execute_result"
    }
   ],
   "source": [
    "np.argmax(model(x_),axis=0) == np.argmax(y_,axis=0)"
   ]
  }
 ],
 "metadata": {
  "kernelspec": {
   "display_name": "base",
   "language": "python",
   "name": "python3"
  },
  "language_info": {
   "codemirror_mode": {
    "name": "ipython",
    "version": 3
   },
   "file_extension": ".py",
   "mimetype": "text/x-python",
   "name": "python",
   "nbconvert_exporter": "python",
   "pygments_lexer": "ipython3",
   "version": "3.11.5"
  }
 },
 "nbformat": 4,
 "nbformat_minor": 2
}
