{
 "cells": [
  {
   "cell_type": "code",
   "execution_count": 1,
   "metadata": {},
   "outputs": [],
   "source": [
    "from NN import * \n",
    "from preprocess import *"
   ]
  },
  {
   "cell_type": "code",
   "execution_count": 2,
   "metadata": {},
   "outputs": [],
   "source": [
    "X_train,y_train,X_test,y_test=preprocess_EMNIST() "
   ]
  },
  {
   "cell_type": "code",
   "execution_count": 3,
   "metadata": {},
   "outputs": [],
   "source": [
    "model = NN(Linear(28*28,1024,optimizer=\"None\"),ReLU(),Dropout(0.3),Linear(1024,27,optimizer=\"None\"),Softmax())"
   ]
  },
  {
   "cell_type": "code",
   "execution_count": 4,
   "metadata": {},
   "outputs": [
    {
     "data": {
      "text/plain": [
       "Linear(784,1024)\n",
       "ReLU\n",
       "Dropout(0.3)\n",
       "Linear(1024,27)\n",
       "Softmax"
      ]
     },
     "execution_count": 4,
     "metadata": {},
     "output_type": "execute_result"
    }
   ],
   "source": [
    "model"
   ]
  },
  {
   "cell_type": "code",
   "execution_count": 7,
   "metadata": {},
   "outputs": [
    {
     "name": "stdout",
     "output_type": "stream",
     "text": [
      "epoch=0, train_loss=0.6022055289482012, val_loss=0.5940067529366769\n",
      "epoch=1, train_loss=0.5962193776265977, val_loss=0.5899207999557855\n",
      "epoch=2, train_loss=0.5904665223409041, val_loss=0.5851551674626309\n",
      "epoch=3, train_loss=0.5794069127463072, val_loss=0.5633049141138814\n",
      "epoch=4, train_loss=0.5570083417083915, val_loss=0.5495443534847854\n",
      "epoch=5, train_loss=0.544260006163937, val_loss=0.5423542229527654\n",
      "epoch=6, train_loss=0.5396547289550199, val_loss=0.538756863024277\n",
      "epoch=7, train_loss=0.5348548235542265, val_loss=0.5359315473174916\n",
      "epoch=8, train_loss=0.529568762539386, val_loss=0.53209779002541\n",
      "epoch=9, train_loss=0.5243429751293787, val_loss=0.5285873224745297\n",
      "epoch=10, train_loss=0.5215557180424809, val_loss=0.5229534047450507\n",
      "epoch=11, train_loss=0.5139978972186179, val_loss=0.516487614119676\n",
      "epoch=12, train_loss=0.5065538620674349, val_loss=0.5094689150817105\n",
      "epoch=13, train_loss=0.49704567118790915, val_loss=0.49995928601104667\n",
      "epoch=14, train_loss=0.489082944438134, val_loss=0.4927541149118494\n",
      "epoch=15, train_loss=0.4816775636644779, val_loss=0.4884787788774967\n",
      "epoch=16, train_loss=0.47656496862868514, val_loss=0.4845241250765402\n",
      "epoch=17, train_loss=0.473150967839765, val_loss=0.48188864501574274\n",
      "epoch=18, train_loss=0.46744968137567844, val_loss=0.4791821718458494\n",
      "epoch=19, train_loss=0.46469939144305356, val_loss=0.4766833223726485\n",
      "epoch=20, train_loss=0.4618896751081442, val_loss=0.4752036535000013\n",
      "epoch=21, train_loss=0.45798250132273277, val_loss=0.47282008173524076\n",
      "epoch=22, train_loss=0.45421699727958215, val_loss=0.4716151712693158\n",
      "epoch=23, train_loss=0.45420411419549234, val_loss=0.4693722501165789\n",
      "epoch=24, train_loss=0.4519811934646223, val_loss=0.4672604576084554\n",
      "epoch=25, train_loss=0.44907284778475304, val_loss=0.4653400092400809\n",
      "epoch=26, train_loss=0.4446736702725414, val_loss=0.462694039241995\n",
      "epoch=27, train_loss=0.43735101564716766, val_loss=0.4525845294264808\n",
      "epoch=28, train_loss=0.4272746678856932, val_loss=0.4431413443649979\n",
      "epoch=29, train_loss=0.4237874396080703, val_loss=0.4400444694347738\n",
      "epoch=30, train_loss=0.4186150873260187, val_loss=0.43711668232690454\n",
      "epoch=31, train_loss=0.41557136217795, val_loss=0.43436081965628615\n",
      "epoch=32, train_loss=0.4142361791186905, val_loss=0.43166988532914513\n",
      "epoch=33, train_loss=0.4102876196865788, val_loss=0.42940179701135306\n",
      "epoch=34, train_loss=0.40651981912678026, val_loss=0.4278886363214605\n",
      "epoch=35, train_loss=0.405930706335252, val_loss=0.4260340272066275\n",
      "epoch=36, train_loss=0.4047739845983251, val_loss=0.424299660878448\n",
      "epoch=37, train_loss=0.40280822043517056, val_loss=0.4228946056345761\n",
      "epoch=38, train_loss=0.3986214909142754, val_loss=0.4218460241414319\n",
      "epoch=39, train_loss=0.3950954621483043, val_loss=0.4192273424035005\n",
      "epoch=40, train_loss=0.39357718667435954, val_loss=0.41787415195735256\n",
      "epoch=41, train_loss=0.3917629713526491, val_loss=0.4165524317710605\n",
      "epoch=42, train_loss=0.39074636617374175, val_loss=0.41474282622657227\n",
      "epoch=43, train_loss=0.38893591259794336, val_loss=0.4128138992012704\n",
      "epoch=44, train_loss=0.3853864829391814, val_loss=0.41122226736769174\n",
      "epoch=45, train_loss=0.3852558208223974, val_loss=0.40972005869812445\n",
      "epoch=46, train_loss=0.3839820104797555, val_loss=0.40870757026025695\n",
      "epoch=47, train_loss=0.3811916683014204, val_loss=0.4077273438752296\n",
      "epoch=48, train_loss=0.3814362851243859, val_loss=0.4067361116203103\n",
      "epoch=49, train_loss=0.3809821871851397, val_loss=0.40613987564737525\n"
     ]
    }
   ],
   "source": [
    "model.train(cross_entropy, cross_entropy_grad, X_train, y_train, epochs=50, batch_size=1024, learning_rate=5e-3,) # learning_rate_scheduler=lambda epoch,i_lr:i_lr)"
   ]
  },
  {
   "cell_type": "code",
   "execution_count": 8,
   "metadata": {},
   "outputs": [
    {
     "data": {
      "text/plain": [
       "0.6866346153846153"
      ]
     },
     "execution_count": 8,
     "metadata": {},
     "output_type": "execute_result"
    }
   ],
   "source": [
    "model.eval(X_test,y_test,batch_size=2048)"
   ]
  },
  {
   "cell_type": "code",
   "execution_count": 9,
   "metadata": {},
   "outputs": [],
   "source": [
    "model.save(\"model1024.pkl\")"
   ]
  }
 ],
 "metadata": {
  "kernelspec": {
   "display_name": "base",
   "language": "python",
   "name": "python3"
  },
  "language_info": {
   "codemirror_mode": {
    "name": "ipython",
    "version": 3
   },
   "file_extension": ".py",
   "mimetype": "text/x-python",
   "name": "python",
   "nbconvert_exporter": "python",
   "pygments_lexer": "ipython3",
   "version": "3.11.5"
  }
 },
 "nbformat": 4,
 "nbformat_minor": 2
}
