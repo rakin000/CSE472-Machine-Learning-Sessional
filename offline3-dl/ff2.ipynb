{
 "cells": [
  {
   "cell_type": "code",
   "execution_count": 1,
   "metadata": {},
   "outputs": [],
   "source": [
    "from NN import * \n",
    "from preprocess import *"
   ]
  },
  {
   "cell_type": "code",
   "execution_count": 2,
   "metadata": {},
   "outputs": [],
   "source": [
    "X_train,y_train,X_test,y_test=preprocess_EMNIST() "
   ]
  },
  {
   "cell_type": "code",
   "execution_count": 3,
   "metadata": {},
   "outputs": [],
   "source": [
    "model = NN(Linear(28*28,1024),ReLU(),Dropout(0.3),Linear(1024,27),Softmax())"
   ]
  },
  {
   "cell_type": "code",
   "execution_count": 4,
   "metadata": {},
   "outputs": [
    {
     "data": {
      "text/plain": [
       "Linear(784,1024)\n",
       "ReLU\n",
       "Dropout(0.3)\n",
       "Linear(1024,27)\n",
       "Softmax"
      ]
     },
     "execution_count": 4,
     "metadata": {},
     "output_type": "execute_result"
    }
   ],
   "source": [
    "model"
   ]
  },
  {
   "cell_type": "code",
   "execution_count": 5,
   "metadata": {},
   "outputs": [
    {
     "name": "stdout",
     "output_type": "stream",
     "text": [
      "epoch=0, train_loss=1.0619596804964195, val_loss=1.0337683610642368\n",
      "epoch=1, train_loss=1.031102780139246, val_loss=1.015741066446184\n",
      "epoch=2, train_loss=1.0324127121010143, val_loss=1.0224604061264164\n",
      "epoch=3, train_loss=1.01464433582746, val_loss=1.0015721184434685\n",
      "epoch=4, train_loss=1.0143602846672073, val_loss=1.0256172432241815\n"
     ]
    }
   ],
   "source": [
    "model.train(cross_entropy, cross_entropy_grad, X_train, y_train, epochs=20, batch_size=2048, learning_rate=5e-3)"
   ]
  },
  {
   "cell_type": "code",
   "execution_count": null,
   "metadata": {},
   "outputs": [
    {
     "data": {
      "text/plain": [
       "0.7835576923076923"
      ]
     },
     "execution_count": 18,
     "metadata": {},
     "output_type": "execute_result"
    }
   ],
   "source": [
    "model.eval(X_test,y_test,batch_size=4096)"
   ]
  },
  {
   "cell_type": "code",
   "execution_count": null,
   "metadata": {},
   "outputs": [],
   "source": [
    "model.save(\"model1024.pkl\")"
   ]
  }
 ],
 "metadata": {
  "kernelspec": {
   "display_name": "base",
   "language": "python",
   "name": "python3"
  },
  "language_info": {
   "codemirror_mode": {
    "name": "ipython",
    "version": 3
   },
   "file_extension": ".py",
   "mimetype": "text/x-python",
   "name": "python",
   "nbconvert_exporter": "python",
   "pygments_lexer": "ipython3",
   "version": "3.11.5"
  }
 },
 "nbformat": 4,
 "nbformat_minor": 2
}
