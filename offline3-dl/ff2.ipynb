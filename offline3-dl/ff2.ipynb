{
 "cells": [
  {
   "cell_type": "code",
   "execution_count": 1,
   "metadata": {},
   "outputs": [],
   "source": [
    "from NN import * \n",
    "from preprocess import *"
   ]
  },
  {
   "cell_type": "code",
   "execution_count": 2,
   "metadata": {},
   "outputs": [],
   "source": [
    "X_train,y_train,X_test,y_test=preprocess_EMNIST() "
   ]
  },
  {
   "cell_type": "code",
   "execution_count": 3,
   "metadata": {},
   "outputs": [],
   "source": [
    "model = NN(Linear(28*28,1024,optimizer=\"None\"),ReLU(),Dropout(0.3),Linear(1024,27,optimizer=\"None\"),Softmax())"
   ]
  },
  {
   "cell_type": "code",
   "execution_count": 4,
   "metadata": {},
   "outputs": [
    {
     "data": {
      "text/plain": [
       "Linear(784,1024)\n",
       "ReLU\n",
       "Dropout(0.3)\n",
       "Linear(1024,27)\n",
       "Softmax"
      ]
     },
     "execution_count": 4,
     "metadata": {},
     "output_type": "execute_result"
    }
   ],
   "source": [
    "model"
   ]
  },
  {
   "cell_type": "code",
   "execution_count": 5,
   "metadata": {},
   "outputs": [
    {
     "name": "stdout",
     "output_type": "stream",
     "text": [
      "epoch=0, train_loss=1.1364124666491313, val_loss=1.0449331328374214\n",
      "epoch=1, train_loss=1.017228243579604, val_loss=0.9629600120280386\n",
      "epoch=2, train_loss=0.9575005066387462, val_loss=0.9161164757018302\n",
      "epoch=3, train_loss=0.914154027194872, val_loss=0.8792123943514127\n",
      "epoch=4, train_loss=0.8873486838381378, val_loss=0.8545421258333116\n",
      "epoch=5, train_loss=0.8616096441682337, val_loss=0.8313172992330777\n",
      "epoch=6, train_loss=0.8369259492176976, val_loss=0.8089543275061766\n"
     ]
    }
   ],
   "source": [
    "model.train(cross_entropy, cross_entropy_grad, X_train, y_train, epochs=50, batch_size=1024, learning_rate=5e-3,) # learning_rate_scheduler=lambda epoch,i_lr:i_lr)"
   ]
  },
  {
   "cell_type": "code",
   "execution_count": null,
   "metadata": {},
   "outputs": [
    {
     "data": {
      "text/plain": [
       "0.20014423076923077"
      ]
     },
     "execution_count": 8,
     "metadata": {},
     "output_type": "execute_result"
    }
   ],
   "source": [
    "model.eval(X_test,y_test,batch_size=2048)"
   ]
  },
  {
   "cell_type": "code",
   "execution_count": null,
   "metadata": {},
   "outputs": [],
   "source": [
    "model.save(\"model1024.pkl\")"
   ]
  }
 ],
 "metadata": {
  "kernelspec": {
   "display_name": "base",
   "language": "python",
   "name": "python3"
  },
  "language_info": {
   "codemirror_mode": {
    "name": "ipython",
    "version": 3
   },
   "file_extension": ".py",
   "mimetype": "text/x-python",
   "name": "python",
   "nbconvert_exporter": "python",
   "pygments_lexer": "ipython3",
   "version": "3.11.5"
  }
 },
 "nbformat": 4,
 "nbformat_minor": 2
}
