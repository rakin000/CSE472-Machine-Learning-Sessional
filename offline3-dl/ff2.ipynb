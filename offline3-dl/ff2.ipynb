{
 "cells": [
  {
   "cell_type": "code",
   "execution_count": 1,
   "metadata": {},
   "outputs": [],
   "source": [
    "from NN import * \n",
    "from preprocess import *"
   ]
  },
  {
   "cell_type": "code",
   "execution_count": 2,
   "metadata": {},
   "outputs": [],
   "source": [
    "X_train,y_train,X_test,y_test=preprocess_EMNIST() "
   ]
  },
  {
   "cell_type": "code",
   "execution_count": 4,
   "metadata": {},
   "outputs": [],
   "source": [
    "model = NN(Linear(28*28,1024),ReLU(),Dropout(0.3),Linear(1024,26),Softmax())"
   ]
  },
  {
   "cell_type": "code",
   "execution_count": 5,
   "metadata": {},
   "outputs": [
    {
     "data": {
      "text/plain": [
       "Linear(784,1024)\n",
       "ReLU\n",
       "Dropout(0.3)\n",
       "Linear(1024,26)\n",
       "Softmax"
      ]
     },
     "execution_count": 5,
     "metadata": {},
     "output_type": "execute_result"
    }
   ],
   "source": [
    "model"
   ]
  },
  {
   "cell_type": "code",
   "execution_count": 6,
   "metadata": {},
   "outputs": [
    {
     "name": "stdout",
     "output_type": "stream",
     "text": [
      "epoch=0, train_loss=0.03750199254297934, val_loss=0.2731460383769267, train_acc=0.8546757164404223, val_acc=0.8388354700854701\n",
      "epoch=1, train_loss=0.024455801374780012, val_loss=0.235215184054846, train_acc=0.8797134238310709, val_acc=0.8574786324786324\n",
      "epoch=2, train_loss=0.022501523598748262, val_loss=0.21915197019128538, train_acc=0.891751508295626, val_acc=0.8628739316239317\n",
      "epoch=3, train_loss=0.02052895694322397, val_loss=0.20728981113632997, train_acc=0.898001508295626, val_acc=0.8678418803418804\n",
      "epoch=4, train_loss=0.018573305347389008, val_loss=0.20178197792358382, train_acc=0.9019230769230769, val_acc=0.8670405982905983\n",
      "epoch=5, train_loss=0.017696362184281052, val_loss=0.20041944979556459, train_acc=0.9036764705882353, val_acc=0.8666666666666667\n",
      "epoch=6, train_loss=0.016994747774658935, val_loss=0.1876306239923124, train_acc=0.9186463046757164, val_acc=0.8770299145299145\n",
      "epoch=7, train_loss=0.016327102846983275, val_loss=0.1784918425850941, train_acc=0.9264988687782806, val_acc=0.8844551282051282\n",
      "epoch=8, train_loss=0.015055520100456105, val_loss=0.18154560805761588, train_acc=0.9283936651583711, val_acc=0.8810897435897436\n",
      "epoch=9, train_loss=0.013505747431230446, val_loss=0.17206588333818407, train_acc=0.9355486425339367, val_acc=0.8865384615384615\n",
      "epoch=10, train_loss=0.012261336311382863, val_loss=0.1712641268761876, train_acc=0.9400829562594268, val_acc=0.885844017094017\n",
      "epoch=11, train_loss=0.011397943852689557, val_loss=0.166214228483787, train_acc=0.9453431372549019, val_acc=0.88883547008547\n",
      "epoch=12, train_loss=0.010625749412351058, val_loss=0.15879176778641632, train_acc=0.9535162141779789, val_acc=0.8956196581196582\n",
      "epoch=13, train_loss=0.009959204653761157, val_loss=0.1625248019325814, train_acc=0.9494626696832579, val_acc=0.8927350427350428\n",
      "epoch=14, train_loss=0.009038347207482028, val_loss=0.158939642310205, train_acc=0.9544588989441931, val_acc=0.8955128205128206\n",
      "epoch=15, train_loss=0.008647522115709749, val_loss=0.15830198853328692, train_acc=0.958974358974359, val_acc=0.8950854700854701\n",
      "epoch=16, train_loss=0.007974918640553077, val_loss=0.15650659754488547, train_acc=0.9618684012066365, val_acc=0.8981303418803419\n",
      "epoch=17, train_loss=0.007713488841082442, val_loss=0.15846527880548766, train_acc=0.9607654600301659, val_acc=0.8957264957264958\n",
      "epoch=18, train_loss=0.0072251485572767905, val_loss=0.15312398173572062, train_acc=0.9663932880844646, val_acc=0.8985042735042735\n",
      "epoch=19, train_loss=0.006789456473349322, val_loss=0.15311724706535562, train_acc=0.9674302413273002, val_acc=0.8992521367521368\n",
      "epoch=20, train_loss=0.006564273675490054, val_loss=0.1524157569281549, train_acc=0.9679204374057315, val_acc=0.8985042735042735\n",
      "epoch=21, train_loss=0.006204065563208346, val_loss=0.14928262915116713, train_acc=0.9692967571644042, val_acc=0.9006410256410257\n",
      "epoch=22, train_loss=0.005935141217233224, val_loss=0.1460893586120134, train_acc=0.971078431372549, val_acc=0.9027777777777778\n",
      "epoch=23, train_loss=0.005771653600175545, val_loss=0.14896911132238314, train_acc=0.9720965309200603, val_acc=0.9013888888888889\n",
      "epoch=24, train_loss=0.005425347879399666, val_loss=0.1474374021919614, train_acc=0.9741798642533936, val_acc=0.9019230769230769\n",
      "epoch=25, train_loss=0.005128508218022512, val_loss=0.1488155213043851, train_acc=0.9762914781297134, val_acc=0.9011217948717949\n",
      "epoch=26, train_loss=0.005088305840017987, val_loss=0.14588872491747354, train_acc=0.9761689291101056, val_acc=0.9016559829059829\n",
      "epoch=27, train_loss=0.0050162065446263575, val_loss=0.14668917209536486, train_acc=0.975, val_acc=0.9010149572649573\n",
      "epoch=28, train_loss=0.004681107339744965, val_loss=0.14541071889704604, train_acc=0.977262443438914, val_acc=0.902190170940171\n",
      "epoch=29, train_loss=0.004535015736502504, val_loss=0.14402788114517265, train_acc=0.9788367269984917, val_acc=0.9044337606837607\n",
      "epoch=30, train_loss=0.004380798981864325, val_loss=0.14605731751052478, train_acc=0.9790441176470588, val_acc=0.9018162393162393\n",
      "epoch=31, train_loss=0.0042385091635117845, val_loss=0.1451619786739807, train_acc=0.9789027149321267, val_acc=0.9012820512820513\n",
      "epoch=32, train_loss=0.004058548816878677, val_loss=0.144462129928505, train_acc=0.9793363499245852, val_acc=0.9042735042735043\n",
      "epoch=33, train_loss=0.0040296746489800715, val_loss=0.14256731341442558, train_acc=0.9803355957767722, val_acc=0.9051282051282051\n",
      "epoch=34, train_loss=0.003846921335435675, val_loss=0.14242135760734606, train_acc=0.9808257918552036, val_acc=0.9049679487179487\n",
      "epoch=35, train_loss=0.0037681518679926734, val_loss=0.1430641868422943, train_acc=0.9819381598793363, val_acc=0.9036324786324786\n",
      "epoch=36, train_loss=0.0036884447132867885, val_loss=0.1424221442253812, train_acc=0.9818815987933635, val_acc=0.9040064102564103\n",
      "epoch=37, train_loss=0.0035391427189384456, val_loss=0.14119835746610035, train_acc=0.9828808446455505, val_acc=0.9057692307692308\n",
      "epoch=38, train_loss=0.003485545703328282, val_loss=0.1423317467533413, train_acc=0.9835407239819004, val_acc=0.9039529914529915\n",
      "epoch=39, train_loss=0.0034616016556052753, val_loss=0.1420510145784633, train_acc=0.9837669683257918, val_acc=0.9042200854700855\n",
      "epoch=40, train_loss=0.003348836401624652, val_loss=0.14242652320854102, train_acc=0.9844457013574661, val_acc=0.902991452991453\n",
      "epoch=41, train_loss=0.0032767741562092032, val_loss=0.14196862088930073, train_acc=0.9849641779788839, val_acc=0.9034722222222222\n",
      "epoch=42, train_loss=0.0032122915143553295, val_loss=0.14273513148487735, train_acc=0.9848416289592761, val_acc=0.9028311965811966\n",
      "epoch=43, train_loss=0.003167267728471637, val_loss=0.14205044045582008, train_acc=0.9847285067873304, val_acc=0.9042200854700855\n",
      "epoch=44, train_loss=0.003117020243886903, val_loss=0.14127619159067087, train_acc=0.9854166666666667, val_acc=0.9047008547008547\n",
      "epoch=45, train_loss=0.003017506991475205, val_loss=0.14064188920757692, train_acc=0.9861048265460031, val_acc=0.9028311965811966\n",
      "epoch=46, train_loss=0.0030669788291587683, val_loss=0.1408152143139532, train_acc=0.9865573152337859, val_acc=0.9050747863247863\n",
      "epoch=47, train_loss=0.0029362351144073193, val_loss=0.13902929064579347, train_acc=0.9866704374057316, val_acc=0.9047542735042735\n",
      "epoch=48, train_loss=0.0029392887844823007, val_loss=0.13954736136615584, train_acc=0.9873963046757165, val_acc=0.9060897435897436\n",
      "epoch=49, train_loss=0.002877736876468619, val_loss=0.13977471511246406, train_acc=0.9872171945701358, val_acc=0.9057692307692308\n"
     ]
    }
   ],
   "source": [
    "model.train(cross_entropy, cross_entropy_grad, X_train, y_train, epochs=50, batch_size=1024, learning_rate=5e-3,) # learning_rate_scheduler=lambda epoch,i_lr:i_lr)"
   ]
  },
  {
   "cell_type": "code",
   "execution_count": 9,
   "metadata": {},
   "outputs": [
    {
     "data": {
      "text/plain": [
       "0.9053365384615385"
      ]
     },
     "execution_count": 9,
     "metadata": {},
     "output_type": "execute_result"
    }
   ],
   "source": [
    "model.eval(X_test,y_test,batch_size=2048)"
   ]
  },
  {
   "cell_type": "code",
   "execution_count": 10,
   "metadata": {},
   "outputs": [
    {
     "ename": "FileNotFoundError",
     "evalue": "[WinError 2] The system cannot find the file specified: 'model1024.pkl'",
     "output_type": "error",
     "traceback": [
      "\u001b[1;31m---------------------------------------------------------------------------\u001b[0m",
      "\u001b[1;31mFileNotFoundError\u001b[0m                         Traceback (most recent call last)",
      "Cell \u001b[1;32mIn[10], line 1\u001b[0m\n\u001b[1;32m----> 1\u001b[0m \u001b[43mmodel\u001b[49m\u001b[38;5;241;43m.\u001b[39;49m\u001b[43msave\u001b[49m\u001b[43m(\u001b[49m\u001b[38;5;124;43m\"\u001b[39;49m\u001b[38;5;124;43mmodel1024.pkl\u001b[39;49m\u001b[38;5;124;43m\"\u001b[39;49m\u001b[43m)\u001b[49m\n",
      "File \u001b[1;32md:\\4_2\\CSE472-Machine-Learning-Sessional\\offline3-dl\\NN.py:229\u001b[0m, in \u001b[0;36mNN.save\u001b[1;34m(self, filename)\u001b[0m\n\u001b[0;32m    228\u001b[0m \u001b[38;5;28;01mdef\u001b[39;00m \u001b[38;5;21msave\u001b[39m(\u001b[38;5;28mself\u001b[39m, filename):\n\u001b[1;32m--> 229\u001b[0m     \u001b[43mos\u001b[49m\u001b[38;5;241;43m.\u001b[39;49m\u001b[43mremove\u001b[49m\u001b[43m(\u001b[49m\u001b[43mfilename\u001b[49m\u001b[43m)\u001b[49m \u001b[38;5;66;03m# pickle seems to write big files, idk why\u001b[39;00m\n\u001b[0;32m    230\u001b[0m     \u001b[38;5;28;01mwith\u001b[39;00m \u001b[38;5;28mopen\u001b[39m(filename, \u001b[38;5;124m'\u001b[39m\u001b[38;5;124mwb\u001b[39m\u001b[38;5;124m'\u001b[39m) \u001b[38;5;28;01mas\u001b[39;00m file:\n\u001b[0;32m    231\u001b[0m         pickle\u001b[38;5;241m.\u001b[39mdump(\u001b[38;5;28mself\u001b[39m, file)\n",
      "\u001b[1;31mFileNotFoundError\u001b[0m: [WinError 2] The system cannot find the file specified: 'model1024.pkl'"
     ]
    }
   ],
   "source": [
    "model.save(\"model1024.pkl\")"
   ]
  }
 ],
 "metadata": {
  "kernelspec": {
   "display_name": "base",
   "language": "python",
   "name": "python3"
  },
  "language_info": {
   "codemirror_mode": {
    "name": "ipython",
    "version": 3
   },
   "file_extension": ".py",
   "mimetype": "text/x-python",
   "name": "python",
   "nbconvert_exporter": "python",
   "pygments_lexer": "ipython3",
   "version": "3.11.5"
  }
 },
 "nbformat": 4,
 "nbformat_minor": 2
}
